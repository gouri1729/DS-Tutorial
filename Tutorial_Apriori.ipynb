{
 "cells": [
  {
   "cell_type": "code",
   "execution_count": 1,
   "id": "8c41a924-ffce-447b-b3f6-dbe926d8a8e7",
   "metadata": {},
   "outputs": [],
   "source": [
    "from itertools import combinations\n",
    "\n",
    "def generate_candidates(itemsets, length):\n",
    "\n",
    "    return set([item1.union(item2) for item1 in itemsets for item2 in itemsets if len(item1.union(item2)) == length])\n",
    "\n",
    "\n",
    "def filter_candidates(transactions, candidates, min_support):\n",
    "\n",
    "    itemset_counts = {candidate: 0 for candidate in candidates}\n",
    "    for transaction in transactions:\n",
    "        for candidate in candidates:\n",
    "            if candidate.issubset(transaction):\n",
    "                itemset_counts[candidate] += 1\n",
    "    return {itemset: count for itemset, count in itemset_counts.items() if count >= min_support}"
   ]
  },
  {
   "cell_type": "code",
   "execution_count": 2,
   "id": "b07d630e-b184-4ae6-8946-538dfb5dec9d",
   "metadata": {},
   "outputs": [],
   "source": [
    "\n",
    "def apriori(transactions, min_support):\n",
    "    # Generate 1-itemsets\n",
    "    itemsets = set(frozenset([item]) for transaction in transactions for item in transaction)\n",
    "    frequent_itemsets = filter_candidates(transactions, itemsets, min_support)\n",
    "    result = dict(frequent_itemsets)\n",
    "\n",
    "    k = 2\n",
    "    while frequent_itemsets:\n",
    "        # Generate candidates of size k\n",
    "        candidates = generate_candidates(frequent_itemsets.keys(), k)\n",
    "        # Filter candidates\n",
    "        frequent_itemsets = filter_candidates(transactions, candidates, min_support)\n",
    "        result.update(frequent_itemsets)\n",
    "        k += 1\n",
    "    return result\n",
    "\n",
    "\n",
    "def association_rules(frequent_itemsets, min_confidence):\n",
    "\n",
    "    rules = []\n",
    "    for itemset in frequent_itemsets:\n",
    "        for length in range(1, len(itemset)):\n",
    "            for subset in combinations(itemset, length):\n",
    "                antecedent = frozenset(subset)\n",
    "                consequent = itemset - antecedent\n",
    "                support = frequent_itemsets[itemset]\n",
    "                confidence = support / frequent_itemsets[antecedent] if frequent_itemsets.get(antecedent) else 0\n",
    "                if confidence >= min_confidence:\n",
    "                    rules.append((antecedent, consequent, confidence))\n",
    "    return rules\n",
    "\n"
   ]
  },
  {
   "cell_type": "code",
   "execution_count": 3,
   "id": "dae2c85c-f9ab-44dc-a010-4f8d68a8b473",
   "metadata": {},
   "outputs": [
    {
     "name": "stdout",
     "output_type": "stream",
     "text": [
      "Frequent Itemsets: {frozenset({'milk'}): 2, frozenset({'butter'}): 4, frozenset({'beer'}): 3, frozenset({'bread'}): 4, frozenset({'milk', 'butter'}): 2, frozenset({'butter', 'bread'}): 3, frozenset({'milk', 'bread'}): 2, frozenset({'beer', 'butter'}): 2, frozenset({'beer', 'bread'}): 2, frozenset({'milk', 'butter', 'bread'}): 2}\n",
      "Association Rules:\n",
      "{'milk'} -> {'butter'} (confidence: 1.00)\n",
      "{'butter'} -> {'bread'} (confidence: 0.75)\n",
      "{'bread'} -> {'butter'} (confidence: 0.75)\n",
      "{'milk'} -> {'bread'} (confidence: 1.00)\n",
      "{'beer'} -> {'butter'} (confidence: 0.67)\n",
      "{'beer'} -> {'bread'} (confidence: 0.67)\n",
      "{'milk'} -> {'butter', 'bread'} (confidence: 1.00)\n",
      "{'milk', 'butter'} -> {'bread'} (confidence: 1.00)\n",
      "{'milk', 'bread'} -> {'butter'} (confidence: 1.00)\n",
      "{'butter', 'bread'} -> {'milk'} (confidence: 0.67)\n"
     ]
    }
   ],
   "source": [
    "\n",
    "transactions = [\n",
    "    {'milk', 'bread', 'butter'},\n",
    "    {'beer', 'bread'},\n",
    "    {'milk', 'bread', 'beer', 'butter'},\n",
    "    {'beer', 'butter'},\n",
    "    {'bread', 'butter'}\n",
    "]\n",
    "min_support = 2\n",
    "min_confidence = 0.6\n",
    "\n",
    "frequent_itemsets = apriori(transactions, min_support)\n",
    "rules = association_rules(frequent_itemsets, min_confidence)\n",
    "\n",
    "print(\"Frequent Itemsets:\", frequent_itemsets)\n",
    "print(\"Association Rules:\")\n",
    "for antecedent, consequent, confidence in rules:\n",
    "    print(f\"{set(antecedent)} -> {set(consequent)} (confidence: {confidence:.2f})\")"
   ]
  },
  {
   "cell_type": "code",
   "execution_count": null,
   "id": "62303c50-c7e5-433b-a2db-40ba8b6389e1",
   "metadata": {},
   "outputs": [],
   "source": []
  }
 ],
 "metadata": {
  "kernelspec": {
   "display_name": "Python 3 (ipykernel)",
   "language": "python",
   "name": "python3"
  },
  "language_info": {
   "codemirror_mode": {
    "name": "ipython",
    "version": 3
   },
   "file_extension": ".py",
   "mimetype": "text/x-python",
   "name": "python",
   "nbconvert_exporter": "python",
   "pygments_lexer": "ipython3",
   "version": "3.9.13"
  }
 },
 "nbformat": 4,
 "nbformat_minor": 5
}
